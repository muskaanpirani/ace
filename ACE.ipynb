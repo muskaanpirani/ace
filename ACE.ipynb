{
  "nbformat": 4,
  "nbformat_minor": 0,
  "metadata": {
    "colab": {
      "name": "ACE.ipynb",
      "provenance": [],
      "collapsed_sections": []
    },
    "kernelspec": {
      "name": "python3",
      "display_name": "Python 3"
    },
    "language_info": {
      "name": "python"
    }
  },
  "cells": [
    {
      "cell_type": "markdown",
      "metadata": {
        "id": "FRY6WqoIOcCn"
      },
      "source": [
        "***A.C.E. (Automatic Code Eclectic)***"
      ]
    },
    {
      "cell_type": "code",
      "metadata": {
        "colab": {
          "base_uri": "https://localhost:8080/"
        },
        "id": "DketjjOQpVTI",
        "outputId": "6f639cae-06e5-43b0-f632-74f9a8801241"
      },
      "source": [
        "pip install openai"
      ],
      "execution_count": null,
      "outputs": [
        {
          "output_type": "stream",
          "name": "stdout",
          "text": [
            "Requirement already satisfied: openai in /usr/local/lib/python3.7/dist-packages (0.10.4)\n",
            "Requirement already satisfied: openpyxl>=3.0.7 in /usr/local/lib/python3.7/dist-packages (from openai) (3.0.9)\n",
            "Requirement already satisfied: tqdm in /usr/local/lib/python3.7/dist-packages (from openai) (4.62.2)\n",
            "Requirement already satisfied: pandas-stubs>=1.1.0.11 in /usr/local/lib/python3.7/dist-packages (from openai) (1.2.0.17)\n",
            "Requirement already satisfied: requests>=2.20 in /usr/local/lib/python3.7/dist-packages (from openai) (2.23.0)\n",
            "Requirement already satisfied: pandas>=1.2.3 in /usr/local/lib/python3.7/dist-packages (from openai) (1.3.3)\n",
            "Requirement already satisfied: et-xmlfile in /usr/local/lib/python3.7/dist-packages (from openpyxl>=3.0.7->openai) (1.1.0)\n",
            "Requirement already satisfied: pytz>=2017.3 in /usr/local/lib/python3.7/dist-packages (from pandas>=1.2.3->openai) (2018.9)\n",
            "Requirement already satisfied: python-dateutil>=2.7.3 in /usr/local/lib/python3.7/dist-packages (from pandas>=1.2.3->openai) (2.8.2)\n",
            "Requirement already satisfied: numpy>=1.17.3 in /usr/local/lib/python3.7/dist-packages (from pandas>=1.2.3->openai) (1.19.5)\n",
            "Requirement already satisfied: typing-extensions>=3.7.4.3 in /usr/local/lib/python3.7/dist-packages (from pandas-stubs>=1.1.0.11->openai) (3.7.4.3)\n",
            "Requirement already satisfied: six>=1.5 in /usr/local/lib/python3.7/dist-packages (from python-dateutil>=2.7.3->pandas>=1.2.3->openai) (1.15.0)\n",
            "Requirement already satisfied: certifi>=2017.4.17 in /usr/local/lib/python3.7/dist-packages (from requests>=2.20->openai) (2021.5.30)\n",
            "Requirement already satisfied: idna<3,>=2.5 in /usr/local/lib/python3.7/dist-packages (from requests>=2.20->openai) (2.10)\n",
            "Requirement already satisfied: chardet<4,>=3.0.2 in /usr/local/lib/python3.7/dist-packages (from requests>=2.20->openai) (3.0.4)\n",
            "Requirement already satisfied: urllib3!=1.25.0,!=1.25.1,<1.26,>=1.21.1 in /usr/local/lib/python3.7/dist-packages (from requests>=2.20->openai) (1.24.3)\n"
          ]
        }
      ]
    },
    {
      "cell_type": "code",
      "metadata": {
        "colab": {
          "base_uri": "https://localhost:8080/"
        },
        "id": "vggA7LHD2Ky_",
        "outputId": "79e3c655-989a-4997-ace6-93bfe86de042"
      },
      "source": [
        "!wget https://raw.githubusercontent.com/muskaanpirani/ace/main/gpt.py"
      ],
      "execution_count": null,
      "outputs": [
        {
          "output_type": "stream",
          "name": "stdout",
          "text": [
            "--2021-09-24 05:05:57--  https://raw.githubusercontent.com/muskaanpirani/ace/main/gpt.py\n",
            "Resolving raw.githubusercontent.com (raw.githubusercontent.com)... 185.199.109.133, 185.199.111.133, 185.199.108.133, ...\n",
            "Connecting to raw.githubusercontent.com (raw.githubusercontent.com)|185.199.109.133|:443... connected.\n",
            "HTTP request sent, awaiting response... 200 OK\n",
            "Length: 2839 (2.8K) [text/plain]\n",
            "Saving to: ‘gpt.py’\n",
            "\n",
            "\rgpt.py                0%[                    ]       0  --.-KB/s               \rgpt.py              100%[===================>]   2.77K  --.-KB/s    in 0s      \n",
            "\n",
            "2021-09-24 05:05:57 (40.5 MB/s) - ‘gpt.py’ saved [2839/2839]\n",
            "\n"
          ]
        }
      ]
    },
    {
      "cell_type": "code",
      "metadata": {
        "id": "x3DJZxwc1xD1"
      },
      "source": [
        "import json\n",
        "import openai\n",
        "# with open('GPT_SECRET_KEY.json') as f:\n",
        "#     data = json.load(f)\n",
        "openai.api_key = \"api-key\""
      ],
      "execution_count": null,
      "outputs": []
    },
    {
      "cell_type": "code",
      "metadata": {
        "id": "L0dUpJBt13PG"
      },
      "source": [
        "from gpt import GPT\n",
        "from gpt import Example\n",
        "gpt = GPT(engine=\"davinci\",\n",
        "          temperature=0.5,\n",
        "          max_tokens=1500)"
      ],
      "execution_count": null,
      "outputs": []
    },
    {
      "cell_type": "code",
      "metadata": {
        "id": "z4CtTQJS2g9D"
      },
      "source": [
        "# gpt.add_example(Example('Fetch unique values of DEPARTMENT from Worker table.', \n",
        "#                         'Select distinct DEPARTMENT from Worker;'))\n",
        "# gpt.add_example(Example('Print the first three characters of FIRST_NAME from Worker table.', \n",
        "#                         'Select substring(FIRST_NAME,1,3) from Worker;'))\n",
        "# gpt.add_example(Example(\"Find the position of the alphabet ('a') in the first name column 'Amitabh' from Worker table.\", \n",
        "#                         \"Select INSTR(FIRST_NAME, BINARY'a') from Worker where FIRST_NAME = 'Amitabh';\"))\n",
        "# gpt.add_example(Example(\"Print the FIRST_NAME from Worker table after replacing 'a' with 'A'.\", \n",
        "#                         \"Select CONCAT(FIRST_NAME, ' ', LAST_NAME) AS 'COMPLETE_NAME' from Worker;\"))\n",
        "# gpt.add_example(Example(\"Display the second highest salary from the Worker table.\", \n",
        "#                         \"Select max(Salary) from Worker where Salary not in (Select max(Salary) from Worker);\"))\n",
        "# gpt.add_example(Example(\"Display the highest salary from the Worker table.\", \n",
        "#                         \"Select max(Salary) from Worker;\"))\n",
        "# gpt.add_example(Example(\"Fetch the count of employees working in the department Admin.\", \n",
        "#                         \"SELECT COUNT(*) FROM worker WHERE DEPARTMENT = 'Admin';\"))\n",
        "# gpt.add_example(Example(\"Get all details of the Workers whose SALARY lies between 100000 and 500000.\", \n",
        "#                         \"Select * from Worker where SALARY between 100000 and 500000;\"))\n",
        "# gpt.add_example(Example(\"Get Salary details of the Workers\", \n",
        "#                         \"Select Salary from Worker\"))"
      ],
      "execution_count": null,
      "outputs": []
    },
    {
      "cell_type": "code",
      "metadata": {
        "colab": {
          "base_uri": "https://localhost:8080/"
        },
        "id": "_UzNmWD021Q8",
        "outputId": "80dc86a7-d04d-4acb-ebe2-8816ee98de9a"
      },
      "source": [
        "# prompt = \"Display the lowest salary from the Worker table.\"\n",
        "# output = gpt.submit_request(prompt)\n",
        "# output.choices[0].text\n",
        "# # 'output: Select min(Salary) from Worker;\\n'\n",
        "\n",
        "# prompt = \"Tell me the count of employees working in the department HR.\"\n",
        "# output = gpt.submit_request(prompt)\n",
        "# output.choices[0].text\n",
        "# # \"output: SELECT COUNT(*) FROM worker WHERE DEPARTMENT = 'HR';\\n\"\n",
        "\n",
        "# prompt = \"Get salary details of the Workers whose AGE lies between 25 and 35\"\n",
        "# print(gpt.get_top_reply(prompt))"
      ],
      "execution_count": null,
      "outputs": [
        {
          "output_type": "stream",
          "text": [
            "output: Select * from Worker where AGE between 25 and 35;\n",
            "\n"
          ],
          "name": "stdout"
        }
      ]
    },
    {
      "cell_type": "code",
      "metadata": {
        "id": "Bx61OnOA3TIV"
      },
      "source": [
        "gpt.add_example(Example(\"Build keras model\", \n",
        "                        '''model = Sequential()\n",
        "model.add(Dense(12, input_dim=8, activation='relu'))\n",
        "model.add(Dense(8, activation='relu'))\n",
        "model.add(Dense(1, activation='sigmoid'))'''))\n",
        "\n",
        "gpt.add_example(Example(\"Build LSTM model with 16 neurons\", \n",
        "                        '''model = Sequential()\n",
        "model.add(LSTM(16, activation='relu', input_shape=(n_steps, n_features)))\n",
        "model.add(Dense(1))\n",
        "model.compile(optimizer='adam', loss='mse')'''))\n",
        "\n",
        "gpt.add_example(Example(\"Build BiLSTM model with MAE loss function\", \n",
        "                        '''model = Sequential()\n",
        "model.add(Bidirectional(LSTM(8, activation='relu', input_shape=(n_steps, n_features))))\n",
        "model.add(Dense(1))\n",
        "model.compile(optimizer='adam', loss='mae')'''))\n",
        "\n",
        "gpt.add_example(Example(\"Build LogisticRegression\", \n",
        "                        '''model = LogisticRegression()\n",
        "model.fit(X_train, y_train)'''))\n",
        "\n",
        "gpt.add_example(Example(\"Build Decision Tree\", \n",
        "                        '''clf = DecisionTreeClassifier().fit(X_train, y_train)'''))\n",
        "\n",
        "gpt.add_example(Example(\"Build KNN\", \n",
        "                        '''knn = KNeighborsClassifier()\n",
        "knn.fit(X_train, y_train)'''))\n",
        "\n",
        "gpt.add_example(Example(\"Build Linear Discriminant Analysis\", \n",
        "                        '''lda = LinearDiscriminantAnalysis()\n",
        "lda.fit(X_train, y_train)'''))\n",
        "\n",
        "gpt.add_example(Example(\"Build Gaussian Naive Bayes\", \n",
        "                        '''gnb = GaussianNB()\n",
        "gnb.fit(X_train, y_train)'''))\n",
        "\n",
        "gpt.add_example(Example(\"Build Support Vector Machine\", \n",
        "                        '''svm = SVC()\n",
        "svm.fit(X_train, y_train)'''))\n",
        "\n",
        "# gpt.add_example(Example(\"Build a model to classify images into 5 groups. The dataset has 25000 images, with an input shape of 500x500\", \n",
        "#                         '''output:'''))\n",
        "\n",
        "# gpt.add_example(Example(\"Build Linear Discriminant Analysis\", \n",
        "#                         '''lda = LinearDiscriminantAnalysis()\n",
        "# lda.fit(X_train, y_train)'''))"
      ],
      "execution_count": null,
      "outputs": []
    },
    {
      "cell_type": "code",
      "metadata": {
        "id": "l269ZCImOsmS"
      },
      "source": [
        "import pandas as pd"
      ],
      "execution_count": null,
      "outputs": []
    },
    {
      "cell_type": "code",
      "metadata": {
        "colab": {
          "base_uri": "https://localhost:8080/"
        },
        "id": "8Ab2gfX5Mx5j",
        "outputId": "c6200bb9-8f77-4280-8269-edd782e0b9aa"
      },
      "source": [
        "#@title ACE { form-width: \"950px\" }\n",
        "Input = \"Build LSTM with three layers of 64, 16 and 4 neurons respectively.)\" #@param {type: \"string\"}\n",
        "prompt = Input\n",
        "pd.set_option('display.max_colwidth',1000)\n",
        "output = gpt.submit_request(prompt) \n",
        "txt = output.choices[0].text\n",
        "txt.splitlines()"
      ],
      "execution_count": null,
      "outputs": [
        {
          "output_type": "execute_result",
          "data": {
            "text/plain": [
              "['output: model = Sequential()',\n",
              " \"model.add(LSTM(64, activation='relu', input_shape=(n_steps, n_features)))\",\n",
              " \"model.add(LSTM(16, activation='relu'))\",\n",
              " \"model.add(LSTM(4, activation='sigmoid'))\",\n",
              " \"model.compile(optimizer='adam', loss='mse')\"]"
            ]
          },
          "metadata": {},
          "execution_count": 7
        }
      ]
    },
    {
      "cell_type": "code",
      "metadata": {
        "colab": {
          "base_uri": "https://localhost:8080/"
        },
        "id": "M8OYAKWIS44M",
        "outputId": "a9fa579c-9e5d-4b07-c2e4-845ce1ed0644"
      },
      "source": [
        "#@title ACE { form-width: \"950px\" }\n",
        "Input = \"Build a model to classify images into 5 groups. The dataset has 25000 images\" #@param {type: \"string\"}\n",
        "prompt = Input\n",
        "pd.set_option('display.max_colwidth',1000)\n",
        "output = gpt.submit_request(prompt)\n",
        "txt = output.choices[0].text\n",
        "txt.splitlines()"
      ],
      "execution_count": null,
      "outputs": [
        {
          "output_type": "execute_result",
          "data": {
            "text/plain": [
              "['output: model = Sequential()',\n",
              " \"model.add(Conv2D(32, (3, 3), activation='relu'))\",\n",
              " \"model.add(Conv2D(64, (3, 3), activation='relu'))\",\n",
              " \"model.add(Conv2D(64, (3, 3), activation='relu'))\",\n",
              " \"model.add(Conv2D(64, (3, 3), activation='relu'))\",\n",
              " \"model.add(Conv2D(64, (3, 3), activation='relu'))\",\n",
              " 'model.add(UpSampling2D((2, 2)))',\n",
              " \"model.add(Conv2D(64, (3, 3), activation='relu'))\",\n",
              " 'model.add(UpSampling2D((2, 2)))',\n",
              " \"model.add(Conv2D(32, (3, 3), activation='relu'))\",\n",
              " 'model.add(UpSampling2D((2, 2)))',\n",
              " \"model.add(Conv2D(1, (3, 3), activation='sigmoid'))\",\n",
              " \"model.compile(optimizer='adam', loss='mse')\"]"
            ]
          },
          "metadata": {},
          "execution_count": 8
        }
      ]
    },
    {
      "cell_type": "code",
      "metadata": {
        "id": "uG1_cIoa3k4v"
      },
      "source": [
        "# prompt = \"Build LSTM with three layers of 64, 16 and 4 neurons respectively.)\"\n",
        "# # print(gpt.get_top_reply(prompt))\n",
        "\n",
        "# output = gpt.submit_request(prompt)\n",
        "# output.choices[0].text"
      ],
      "execution_count": null,
      "outputs": []
    },
    {
      "cell_type": "markdown",
      "metadata": {
        "id": "JWzoj4tBUfwE"
      },
      "source": [
        "**Expanded output of above code:**\n",
        "\n",
        "output: model = Sequential()\n",
        "\n",
        "model.add(LSTM(64, activation='relu', input_shape=(n_steps, n_features)))\n",
        "\n",
        "model.add(LSTM(16, activation='relu'))\n",
        "\n",
        "model.add(LSTM(4, activation='sigmoid'))\n",
        "\n",
        "model.compile(optimizer='adam', loss='mse')\n"
      ]
    },
    {
      "cell_type": "code",
      "metadata": {
        "colab": {
          "base_uri": "https://localhost:8080/",
          "height": 120
        },
        "id": "vUpZRZnJR91o",
        "outputId": "2386c924-2e78-4a55-8ed0-89ae047cfffd"
      },
      "source": [
        "prompt = \"Build a model to classify images into 5 groups. The dataset has 25000 images, with an input shape of 500x500\"\n",
        "# print(gpt.get_top_reply(prompt))\n",
        "output = gpt.submit_request(prompt)\n",
        "output.choices[0].text"
      ],
      "execution_count": null,
      "outputs": [
        {
          "output_type": "execute_result",
          "data": {
            "application/vnd.google.colaboratory.intrinsic+json": {
              "type": "string"
            },
            "text/plain": [
              "\"output: model = Sequential()\\nmodel.add(Conv2D(64, kernel_size=(3, 3), strides=(1, 1), padding='same', activation='relu'))\\nmodel.add(Conv2D(64, (3, 3), activation='relu'))\\nmodel.add(MaxPool2D(pool_size=(2, 2)))\\nmodel.add(Dropout(0.2))\\nmodel.add(Conv2D(64, kernel_size=(3, 3), strides=(1, 1), padding='same', activation='relu'))\\nmodel.add(Conv2D(64, (3, 3), activation='relu'))\\nmodel.add(MaxPool2D(pool_size=(2, 2)))\\nmodel.add(Dropout(0.2))\\nmodel.add(Conv2D(64, kernel_size=(3, 3), strides=(1, 1), padding='same', activation='relu'))\\nmodel.add(Conv2D(64, (3, 3), activation='relu'))\\nmodel.add(MaxPool2D(pool_size=(2, 2)))\\nmodel.add(Dropout(0.2))\\nmodel.add(Flatten())\\nmodel.add(Dense(2))\\nmodel.add(Activation('relu'))\\nmodel.add(Dropout(0.2))\\nmodel.add(Dense(1))\\nmodel.add(Activation('sigmoid'))\\nmodel.compile(optimizer='adam', loss='categorical_crossentropy', metrics=['accuracy'])\\noutput: model = Sequential()\\nmodel.add(Conv2D(64, kernel_size=(3, 3), strides=(1, 1), padding='same', activation='relu'))\\nmodel.add(Conv2D(64, (3, 3), activation='relu'))\\nmodel.add(MaxPool2D(pool_size=(2, 2)))\\nmodel.add(Dropout(0.2))\\nmodel.add(Conv2D(64, kernel_size=(3, 3), strides=(1, 1), padding='same', activation='relu'\""
            ]
          },
          "metadata": {
            "tags": []
          },
          "execution_count": 6
        }
      ]
    },
    {
      "cell_type": "markdown",
      "metadata": {
        "id": "btNqU5NyTvVk"
      },
      "source": [
        "**Expanded output of above prompt:**\n",
        "output: model = Sequential()\n",
        "model.add(Conv2D(64, kernel_size=(3, 3), strides=(1, 1), padding='same', activation='relu'))\n",
        "model.add(Conv2D(64, (3, 3), activation='relu'))\n",
        "model.add(MaxPool2D(pool_size=(2, 2)))\n",
        "model.add(Dropout(0.2))\n",
        "model.add(Conv2D(64, kernel_size=(3, 3), strides=(1, 1), padding='same', activation='relu'))\n",
        "model.add(Conv2D(64, (3, 3), activation='relu'))\n",
        "model.add(MaxPool2D(pool_size=(2, 2)))\n",
        "model.add(Dropout(0.2))\n",
        "model.add(Conv2D(64, kernel_size=(3, 3), strides=(1, 1), padding='same', activation='relu'))\n",
        "model.add(Conv2D(64, (3, 3), activation='relu'))\n",
        "model.add(MaxPool2D(pool_size=(2, 2)))\n",
        "model.add(Dropout(0.2))\n",
        "model.add(Flatten())\n",
        "model.add(Dense(2))\n",
        "model.add(Activation('relu'))\n",
        "model.add(Dropout(0.2))\n",
        "model.add(Dense(1))\n",
        "model.add(Activation('sigmoid'))\n",
        "model.compile(optimizer='adam', loss='categorical_crossentropy', metrics=['accuracy'])\n",
        "\n"
      ]
    }
  ]
}